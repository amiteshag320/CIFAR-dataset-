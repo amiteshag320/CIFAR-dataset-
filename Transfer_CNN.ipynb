{
  "nbformat": 4,
  "nbformat_minor": 0,
  "metadata": {
    "kernelspec": {
      "display_name": "Python 3",
      "language": "python",
      "name": "python3"
    },
    "language_info": {
      "codemirror_mode": {
        "name": "ipython",
        "version": 3
      },
      "file_extension": ".py",
      "mimetype": "text/x-python",
      "name": "python",
      "nbconvert_exporter": "python",
      "pygments_lexer": "ipython3",
      "version": "3.8.3"
    },
    "colab": {
      "name": "Transfer_CNN.ipynb",
      "provenance": [],
      "collapsed_sections": []
    },
    "accelerator": "GPU"
  },
  "cells": [
    {
      "cell_type": "code",
      "metadata": {
        "id": "RqeGMcJ9g9Ni"
      },
      "source": [
        "import pandas as pd\n",
        "import math\n",
        "from PIL import Image\n",
        "import tensorflow as tf\n",
        "from tensorflow import keras\n",
        "import scipy as sp\n",
        "from tensorflow.keras.layers import Dense,UpSampling2D\n",
        "from tensorflow.keras.models import Sequential,Model\n",
        "from tensorflow.keras.layers import Dropout,BatchNormalization\n",
        "from tensorflow.keras.layers import Conv2D, MaxPool2D,Flatten\n",
        "from tensorflow.keras.preprocessing.image import ImageDataGenerator\n",
        "from keras.applications import VGG19\n",
        "from keras.regularizers import l2\n",
        "from keras.callbacks import LearningRateScheduler\n",
        "from keras.optimizers import SGD,Adam\n",
        "from keras.callbacks import ReduceLROnPlateau\n",
        "import numpy as np\n",
        "from sklearn.model_selection import train_test_split\n",
        "import matplotlib.pyplot as plt"
      ],
      "execution_count": null,
      "outputs": []
    },
    {
      "cell_type": "code",
      "metadata": {
        "id": "vdo6_U4Bg9OD"
      },
      "source": [
        "(X_train,Y_train),(X_test,Y_test) = keras.datasets.cifar10.load_data()\n",
        "X_train,X_val,Y_train,Y_val=train_test_split(X_train,Y_train,test_size=.1 )\n",
        "X_train = X_train / 255\n",
        "X_test = X_test / 255\n",
        "X_val = X_val / 255"
      ],
      "execution_count": null,
      "outputs": []
    },
    {
      "cell_type": "code",
      "metadata": {
        "id": "ZGZf6XIGg9OW"
      },
      "source": [
        "datagen = ImageDataGenerator( \n",
        "         rotation_range=15,\n",
        "    width_shift_range=0.1,\n",
        "    height_shift_range=0.1,\n",
        "    horizontal_flip=True) \n",
        "\n",
        "val_datagen = ImageDataGenerator(rotation_range=15,\n",
        "    width_shift_range=0.1,\n",
        "    height_shift_range=0.1,\n",
        "    horizontal_flip=True)\n",
        "\n",
        "val_datagen.fit(X_val)\n",
        "datagen.fit(X_train)\n"
      ],
      "execution_count": null,
      "outputs": []
    },
    {
      "cell_type": "code",
      "metadata": {
        "id": "Aw1_0vR9g9Ol"
      },
      "source": [
        "num_classes = 10 \n",
        "Y_train = keras.utils.to_categorical(Y_train,num_classes)\n",
        "Y_test = keras.utils.to_categorical(Y_test,num_classes)\n",
        "Y_val = keras.utils.to_categorical(Y_val, num_classes)"
      ],
      "execution_count": null,
      "outputs": []
    },
    {
      "cell_type": "code",
      "metadata": {
        "id": "mERHWOOk3Ndq"
      },
      "source": [
        "lrr= ReduceLROnPlateau(monitor='accuracy', factor=.01,  patience=3, min_lr=1e-5)"
      ],
      "execution_count": null,
      "outputs": []
    },
    {
      "cell_type": "markdown",
      "metadata": {
        "id": "9uRVGdT--wFr"
      },
      "source": [
        ""
      ]
    },
    {
      "cell_type": "code",
      "metadata": {
        "scrolled": true,
        "id": "r0RVwAbxg9O-"
      },
      "source": [
        "base_model = VGG19(weights='imagenet', \n",
        "                       include_top=False, \n",
        "                       input_shape=(64,64, 3))\n",
        "model= Sequential()# using upsamplign to get more data points and improve the predictions\n",
        "model.add(UpSampling2D())\n",
        "model.add(base_model)\n",
        "model.add(Flatten())\n",
        "model.add(Dense(512, activation=('relu')))\n",
        "model.add(Dropout(0.5))\n",
        "model.add(Dense(256, activation=('relu')))\n",
        "model.add(Dropout(0.5))\n",
        "model.add(Dense(10, activation=('softmax')))"
      ],
      "execution_count": null,
      "outputs": []
    },
    {
      "cell_type": "code",
      "metadata": {
        "id": "hgerknW_g9PP",
        "outputId": "112d0a61-a840-48aa-f260-ce85cceada40",
        "colab": {
          "base_uri": "https://localhost:8080/",
          "height": 1000
        }
      },
      "source": [
        "batch_size= 100\n",
        "epochs=50\n",
        "learn_rate=.001\n",
        "sgd=SGD(lr=learn_rate,momentum=.9,nesterov=False)\n",
        "train_steps_per_epoch = X_train.shape[0] // batch_size\n",
        "val_steps_per_epoch = X_val.shape[0] // batch_size\n",
        "#Compiling the VGG19 model\n",
        "model.compile(optimizer=sgd,loss='categorical_crossentropy',metrics=['accuracy'])\n",
        "r = model.fit_generator(datagen.flow(X_train, Y_train, batch_size = batch_size),steps_per_epoch=train_steps_per_epoch,validation_data = val_datagen.flow(X_val,\n",
        "                                 Y_val,batch_size=batch_size), validation_steps=val_steps_per_epoch,epochs=epochs,callbacks = [lrr], verbose = 1)\n",
        "\n",
        "\n"
      ],
      "execution_count": null,
      "outputs": [
        {
          "output_type": "stream",
          "text": [
            "WARNING:tensorflow:From <ipython-input-7-3eb1fb12ef6d>:10: Model.fit_generator (from tensorflow.python.keras.engine.training) is deprecated and will be removed in a future version.\n",
            "Instructions for updating:\n",
            "Please use Model.fit, which supports generators.\n",
            "Epoch 1/50\n",
            "  2/450 [..............................] - ETA: 38s - loss: 2.7121 - accuracy: 0.1150WARNING:tensorflow:Callbacks method `on_train_batch_end` is slow compared to the batch time (batch time: 0.0562s vs `on_train_batch_end` time: 0.1143s). Check your callbacks.\n",
            "450/450 [==============================] - 83s 184ms/step - loss: 1.5664 - accuracy: 0.4312 - val_loss: 0.8584 - val_accuracy: 0.7002\n",
            "Epoch 2/50\n",
            "450/450 [==============================] - 83s 184ms/step - loss: 0.7994 - accuracy: 0.7394 - val_loss: 0.5599 - val_accuracy: 0.8170\n",
            "Epoch 3/50\n",
            "450/450 [==============================] - 83s 184ms/step - loss: 0.6013 - accuracy: 0.8073 - val_loss: 0.5111 - val_accuracy: 0.8314\n",
            "Epoch 4/50\n",
            "450/450 [==============================] - 83s 184ms/step - loss: 0.5027 - accuracy: 0.8396 - val_loss: 0.4141 - val_accuracy: 0.8556\n",
            "Epoch 5/50\n",
            "450/450 [==============================] - 83s 184ms/step - loss: 0.4344 - accuracy: 0.8626 - val_loss: 0.3901 - val_accuracy: 0.8750\n",
            "Epoch 6/50\n",
            "450/450 [==============================] - 83s 184ms/step - loss: 0.3875 - accuracy: 0.8751 - val_loss: 0.3719 - val_accuracy: 0.8756\n",
            "Epoch 7/50\n",
            "450/450 [==============================] - 83s 184ms/step - loss: 0.3522 - accuracy: 0.8872 - val_loss: 0.3718 - val_accuracy: 0.8780\n",
            "Epoch 8/50\n",
            "450/450 [==============================] - 83s 184ms/step - loss: 0.3217 - accuracy: 0.8983 - val_loss: 0.3619 - val_accuracy: 0.8828\n",
            "Epoch 9/50\n",
            "450/450 [==============================] - 83s 184ms/step - loss: 0.2956 - accuracy: 0.9053 - val_loss: 0.3122 - val_accuracy: 0.8982\n",
            "Epoch 10/50\n",
            "450/450 [==============================] - 83s 184ms/step - loss: 0.2718 - accuracy: 0.9124 - val_loss: 0.3134 - val_accuracy: 0.8960\n",
            "Epoch 11/50\n",
            "450/450 [==============================] - 83s 185ms/step - loss: 0.2497 - accuracy: 0.9200 - val_loss: 0.2974 - val_accuracy: 0.9050\n",
            "Epoch 12/50\n",
            "450/450 [==============================] - 83s 184ms/step - loss: 0.2363 - accuracy: 0.9233 - val_loss: 0.3004 - val_accuracy: 0.9024\n",
            "Epoch 13/50\n",
            "450/450 [==============================] - 83s 184ms/step - loss: 0.2239 - accuracy: 0.9269 - val_loss: 0.2871 - val_accuracy: 0.9060\n",
            "Epoch 14/50\n",
            "450/450 [==============================] - 83s 184ms/step - loss: 0.2032 - accuracy: 0.9343 - val_loss: 0.3351 - val_accuracy: 0.8968\n",
            "Epoch 15/50\n",
            "450/450 [==============================] - 83s 184ms/step - loss: 0.1882 - accuracy: 0.9400 - val_loss: 0.2994 - val_accuracy: 0.9094\n",
            "Epoch 16/50\n",
            "450/450 [==============================] - 83s 185ms/step - loss: 0.1795 - accuracy: 0.9419 - val_loss: 0.3215 - val_accuracy: 0.9038\n",
            "Epoch 17/50\n",
            "450/450 [==============================] - 83s 184ms/step - loss: 0.1707 - accuracy: 0.9454 - val_loss: 0.2692 - val_accuracy: 0.9172\n",
            "Epoch 18/50\n",
            "450/450 [==============================] - 83s 184ms/step - loss: 0.1581 - accuracy: 0.9485 - val_loss: 0.2839 - val_accuracy: 0.9120\n",
            "Epoch 19/50\n",
            "450/450 [==============================] - 83s 184ms/step - loss: 0.1510 - accuracy: 0.9516 - val_loss: 0.2845 - val_accuracy: 0.9138\n",
            "Epoch 20/50\n",
            "450/450 [==============================] - 83s 184ms/step - loss: 0.1405 - accuracy: 0.9545 - val_loss: 0.2682 - val_accuracy: 0.9212\n",
            "Epoch 21/50\n",
            "450/450 [==============================] - 83s 184ms/step - loss: 0.1357 - accuracy: 0.9564 - val_loss: 0.2648 - val_accuracy: 0.9224\n",
            "Epoch 22/50\n",
            "450/450 [==============================] - 83s 184ms/step - loss: 0.1309 - accuracy: 0.9575 - val_loss: 0.2957 - val_accuracy: 0.9134\n",
            "Epoch 23/50\n",
            "450/450 [==============================] - 83s 184ms/step - loss: 0.1217 - accuracy: 0.9608 - val_loss: 0.2853 - val_accuracy: 0.9156\n",
            "Epoch 24/50\n",
            "450/450 [==============================] - 83s 184ms/step - loss: 0.1181 - accuracy: 0.9628 - val_loss: 0.2818 - val_accuracy: 0.9224\n",
            "Epoch 25/50\n",
            "450/450 [==============================] - 83s 184ms/step - loss: 0.1103 - accuracy: 0.9647 - val_loss: 0.2701 - val_accuracy: 0.9256\n",
            "Epoch 26/50\n",
            "450/450 [==============================] - 83s 184ms/step - loss: 0.1037 - accuracy: 0.9669 - val_loss: 0.2936 - val_accuracy: 0.9166\n",
            "Epoch 27/50\n",
            "450/450 [==============================] - 83s 184ms/step - loss: 0.0954 - accuracy: 0.9696 - val_loss: 0.3016 - val_accuracy: 0.9182\n",
            "Epoch 28/50\n",
            "450/450 [==============================] - 83s 184ms/step - loss: 0.0903 - accuracy: 0.9716 - val_loss: 0.2995 - val_accuracy: 0.9156\n",
            "Epoch 29/50\n",
            "450/450 [==============================] - 83s 184ms/step - loss: 0.0926 - accuracy: 0.9710 - val_loss: 0.3112 - val_accuracy: 0.9120\n",
            "Epoch 30/50\n",
            "450/450 [==============================] - 83s 184ms/step - loss: 0.0819 - accuracy: 0.9737 - val_loss: 0.3352 - val_accuracy: 0.9106\n",
            "Epoch 31/50\n",
            "450/450 [==============================] - 83s 184ms/step - loss: 0.0810 - accuracy: 0.9744 - val_loss: 0.3053 - val_accuracy: 0.9202\n",
            "Epoch 32/50\n",
            "450/450 [==============================] - 83s 184ms/step - loss: 0.0744 - accuracy: 0.9766 - val_loss: 0.3383 - val_accuracy: 0.9138\n",
            "Epoch 33/50\n",
            "450/450 [==============================] - 83s 184ms/step - loss: 0.0738 - accuracy: 0.9764 - val_loss: 0.2950 - val_accuracy: 0.9252\n",
            "Epoch 34/50\n",
            "450/450 [==============================] - 83s 184ms/step - loss: 0.0681 - accuracy: 0.9788 - val_loss: 0.2974 - val_accuracy: 0.9216\n",
            "Epoch 35/50\n",
            "450/450 [==============================] - 83s 184ms/step - loss: 0.0663 - accuracy: 0.9792 - val_loss: 0.3003 - val_accuracy: 0.9224\n",
            "Epoch 36/50\n",
            "450/450 [==============================] - 83s 184ms/step - loss: 0.0654 - accuracy: 0.9789 - val_loss: 0.3240 - val_accuracy: 0.9168\n",
            "Epoch 37/50\n",
            "450/450 [==============================] - 83s 184ms/step - loss: 0.0638 - accuracy: 0.9798 - val_loss: 0.3523 - val_accuracy: 0.9168\n",
            "Epoch 38/50\n",
            "450/450 [==============================] - 83s 184ms/step - loss: 0.0582 - accuracy: 0.9809 - val_loss: 0.2918 - val_accuracy: 0.9244\n",
            "Epoch 39/50\n",
            "450/450 [==============================] - 83s 184ms/step - loss: 0.0558 - accuracy: 0.9829 - val_loss: 0.3149 - val_accuracy: 0.9234\n",
            "Epoch 40/50\n",
            "450/450 [==============================] - 83s 184ms/step - loss: 0.0567 - accuracy: 0.9816 - val_loss: 0.3218 - val_accuracy: 0.9226\n",
            "Epoch 41/50\n",
            "450/450 [==============================] - 83s 184ms/step - loss: 0.0514 - accuracy: 0.9835 - val_loss: 0.3129 - val_accuracy: 0.9260\n",
            "Epoch 42/50\n",
            "450/450 [==============================] - 83s 184ms/step - loss: 0.0540 - accuracy: 0.9831 - val_loss: 0.3222 - val_accuracy: 0.9242\n",
            "Epoch 43/50\n",
            "450/450 [==============================] - 83s 184ms/step - loss: 0.0502 - accuracy: 0.9843 - val_loss: 0.3757 - val_accuracy: 0.9112\n",
            "Epoch 44/50\n",
            "450/450 [==============================] - 83s 184ms/step - loss: 0.0513 - accuracy: 0.9839 - val_loss: 0.3198 - val_accuracy: 0.9274\n",
            "Epoch 45/50\n",
            "450/450 [==============================] - 83s 184ms/step - loss: 0.0520 - accuracy: 0.9834 - val_loss: 0.3400 - val_accuracy: 0.9134\n",
            "Epoch 46/50\n",
            "450/450 [==============================] - 83s 184ms/step - loss: 0.0461 - accuracy: 0.9856 - val_loss: 0.3227 - val_accuracy: 0.9222\n",
            "Epoch 47/50\n",
            "450/450 [==============================] - 83s 184ms/step - loss: 0.0423 - accuracy: 0.9861 - val_loss: 0.3481 - val_accuracy: 0.9230\n",
            "Epoch 48/50\n",
            "450/450 [==============================] - 83s 184ms/step - loss: 0.0441 - accuracy: 0.9861 - val_loss: 0.3400 - val_accuracy: 0.9218\n",
            "Epoch 49/50\n",
            "450/450 [==============================] - 83s 184ms/step - loss: 0.0350 - accuracy: 0.9891 - val_loss: 0.3422 - val_accuracy: 0.9228\n",
            "Epoch 50/50\n",
            "450/450 [==============================] - 83s 184ms/step - loss: 0.0398 - accuracy: 0.9874 - val_loss: 0.2937 - val_accuracy: 0.9284\n"
          ],
          "name": "stdout"
        }
      ]
    },
    {
      "cell_type": "code",
      "metadata": {
        "id": "V3iMAdgfg9PZ",
        "outputId": "8b0250e9-8d7f-441f-9520-de40a0376ff5",
        "colab": {
          "base_uri": "https://localhost:8080/",
          "height": 298
        }
      },
      "source": [
        "plt.plot(r.history['accuracy'], label='accuracy')\n",
        "plt.plot(r.history['val_accuracy'], label='val_accuracy')\n",
        "plt.legend()\n",
        "plt.title('Accuracy evolution')\n"
      ],
      "execution_count": null,
      "outputs": [
        {
          "output_type": "execute_result",
          "data": {
            "text/plain": [
              "Text(0.5, 1.0, 'Accuracy evolution')"
            ]
          },
          "metadata": {
            "tags": []
          },
          "execution_count": 10
        },
        {
          "output_type": "display_data",
          "data": {
            "image/png": "[encoded data removed]",
            "text/plain": [
              "<Figure size 432x288 with 1 Axes>"
            ]
          },
          "metadata": {
            "tags": [],
            "needs_background": "light"
          }
        }
      ]
    },
    {
      "cell_type": "code",
      "metadata": {
        "id": "vcfKMV3Sg9Pk",
        "outputId": "543adb56-6eec-4e95-eca9-14a9724c899a",
        "colab": {
          "base_uri": "https://localhost:8080/",
          "height": 34
        }
      },
      "source": [
        "test_loss, test_acc = model.evaluate(X_test,  Y_test, verbose=2)"
      ],
      "execution_count": null,
      "outputs": [
        {
          "output_type": "stream",
          "text": [
            "313/313 - 7s - loss: 0.3093 - accuracy: 0.9305\n"
          ],
          "name": "stdout"
        }
      ]
    },
    {
      "cell_type": "code",
      "metadata": {
        "id": "HTLvf-2t5E4i"
      },
      "source": [
        ""
      ],
      "execution_count": null,
      "outputs": []
    }
  ]
}